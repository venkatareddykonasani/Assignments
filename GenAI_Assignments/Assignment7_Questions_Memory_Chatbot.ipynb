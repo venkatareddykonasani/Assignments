{
  "nbformat": 4,
  "nbformat_minor": 0,
  "metadata": {
    "colab": {
      "provenance": [],
      "authorship_tag": "ABX9TyNgYrik7meoxU1hsBCrBz5B",
      "include_colab_link": true
    },
    "kernelspec": {
      "name": "python3",
      "display_name": "Python 3"
    },
    "language_info": {
      "name": "python"
    }
  },
  "cells": [
    {
      "cell_type": "markdown",
      "metadata": {
        "id": "view-in-github",
        "colab_type": "text"
      },
      "source": [
        "<a href=\"https://colab.research.google.com/github/venkatareddykonasani/Assignments/blob/main/GenAI_Assignments/Assignment7_Questions_Memory_Chatbot.ipynb\" target=\"_parent\"><img src=\"https://colab.research.google.com/assets/colab-badge.svg\" alt=\"Open In Colab\"/></a>"
      ]
    },
    {
      "cell_type": "markdown",
      "source": [
        "#🏛️Indian Penal Code Chatbot: Your Legal Assistant 🗣️"
      ],
      "metadata": {
        "id": "TsSNpwNXeDLb"
      }
    },
    {
      "cell_type": "markdown",
      "source": [
        "📜 In this assignment, we will build a chatbot for the Indian Penal Code. We'll start by downloading the official Indian Penal Code document, and then we'll create a chatbot that can interact with it. Users will be able to ask questions about the Indian Penal Code and have a conversation with it. 🤖🗣️ This chatbot will help users understand the legal provisions easily. 🌐 It's a great tool for students, lawyers, and anyone interested in Indian law. 📘 Get ready to explore the IPC like never before! 🚀"
      ],
      "metadata": {
        "id": "8s_9OgRyesQL"
      }
    },
    {
      "cell_type": "markdown",
      "source": [
        "#Step-1:Document Loading\n",
        "https://raw.githubusercontent.com/venkatareddykonasani/Datasets/master/IPC/THE_INDIAN_PENAL_CODE.pdf"
      ],
      "metadata": {
        "id": "Hab6qHzWQNph"
      }
    },
    {
      "cell_type": "markdown",
      "source": [
        "## Instructions\n",
        "\n",
        "1. **Download a PDF file using wget:**\n",
        "   - Import the `wget` module and use it to download the PDF file from the specified URL.\n",
        "\n",
        "   \n",
        "```python\n",
        "# Download the THE_INDIAN_PENAL_CODE.pdf file\n",
        "!wget https://raw.githubusercontent.com/venkatareddykonasani/Datasets/master/IPC/THE_INDIAN_PENAL_CODE.pdf\n",
        "```\n",
        "\n",
        "2. **Load the PDF file:**\n",
        "   - Use the `PyPDFLoader` from `PyPDFLoader` library to load the downloaded PDF file.\n",
        "\n",
        "3. **Extract text from the PDF:**\n",
        "   - Loop through the pages of the PDF document and concatenate the text content of each page into a single string.\n",
        "\n",
        "4. **Print the first 1000 characters of the extracted text:**\n",
        "   - Use string slicing to print the first 1000 characters of the concatenated text.\n",
        "\n",
        "5. **Print the number of lines, words, and characters in the extracted text:**\n",
        "   - Use string methods to split the text by newline characters to count the number of lines.\n",
        "   - Use string methods to split the text by spaces to count the number of words.\n",
        "   - Use the `len` function to count the total number of characters in the text.\n",
        "\n"
      ],
      "metadata": {
        "id": "DVA9JrwjXdZb"
      }
    },
    {
      "cell_type": "code",
      "source": [
        "#Write your code here"
      ],
      "metadata": {
        "id": "93bXmY47QHKL"
      },
      "execution_count": null,
      "outputs": []
    },
    {
      "cell_type": "code",
      "source": [],
      "metadata": {
        "id": "3wJi1joTQIwp"
      },
      "execution_count": null,
      "outputs": []
    },
    {
      "cell_type": "markdown",
      "source": [
        "# Step-2: Split the data into Chunks"
      ],
      "metadata": {
        "id": "Ug7hnYfoQTUa"
      }
    },
    {
      "cell_type": "markdown",
      "source": [
        "## Instructions\n",
        "\n",
        "\n",
        "1. **Install and Import Necessary Libraries:**\n",
        "   - Ensure you have the `langchain` library installed. If not, install it using `pip`.\n",
        "   - Import `RecursiveCharacterTextSplitter` from the `langchain.text_splitter` module.\n",
        "\n",
        "2. **Initialize the Text Splitter:**\n",
        "   - Create an instance of `RecursiveCharacterTextSplitter` with a specified `chunk_size` and `chunk_overlap`.\n",
        "\n",
        "3. **Split the Text into Chunks:**\n",
        "   - Use the `split_text` method of the text splitter instance to divide the full text into chunks.\n",
        "\n",
        "4. **Print the Number of Chunks and the First Chunk:**\n",
        "   - Print the total number of chunks created.\n",
        "   - Print the content of the first chunk.\n"
      ],
      "metadata": {
        "id": "r5KuVbPHX4q4"
      }
    },
    {
      "cell_type": "code",
      "source": [
        "#Write your code here"
      ],
      "metadata": {
        "id": "8PX4bR9ZRGq6"
      },
      "execution_count": null,
      "outputs": []
    },
    {
      "cell_type": "code",
      "source": [],
      "metadata": {
        "id": "fYKGWMOJdrg1"
      },
      "execution_count": null,
      "outputs": []
    },
    {
      "cell_type": "markdown",
      "source": [
        "#Step-3: Creating embeddings and Storing in Vector Stores"
      ],
      "metadata": {
        "id": "gHskDM5eSSBD"
      }
    },
    {
      "cell_type": "markdown",
      "source": [
        "## Instructions\n",
        "### 1. Install the Required Library\n",
        "First, you need to install the `ChromaDB` library, which is essential for creating and managing vector stores. Use the following command to install it:\n",
        "\n",
        "\n",
        "\n",
        "### 2. Import Necessary Modules\n",
        "Next, import the necessary modules from `langchain`. You will need `OpenAIEmbeddings` for creating embeddings and `Chroma` for managing vector stores.\n",
        "\n",
        "\n",
        "\n",
        "### 3. Create Embeddings\n",
        "Instantiate the `OpenAIEmbeddings` class to create embeddings. This class will be used to generate embeddings for your text data.\n",
        "\n",
        "\n",
        "\n",
        "### 4. Create and Populate the Vector Store\n",
        "Use the `Chroma` class to create a vector store from your text data. The `from_texts` method is used to convert your text data (`chunks`) into embeddings and store them in a persistent directory (`IPC_db`).\n",
        "\n",
        "\n",
        "### 5. Persist the Vector Store\n",
        "Finally, ensure that the vector store is saved by calling the `persist` method. This will save the data to the specified directory, making it available for future use.\n",
        "\n",
        "\n"
      ],
      "metadata": {
        "id": "LhytbY79Ypiz"
      }
    },
    {
      "cell_type": "code",
      "source": [
        "#Write your code here"
      ],
      "metadata": {
        "id": "_rJN-tmwRGt6"
      },
      "execution_count": null,
      "outputs": []
    },
    {
      "cell_type": "code",
      "source": [],
      "metadata": {
        "id": "PxDfzOX1dstr"
      },
      "execution_count": null,
      "outputs": []
    },
    {
      "cell_type": "markdown",
      "source": [
        "#Step-4: Conversation and Retrieval Chain"
      ],
      "metadata": {
        "id": "8XeBaA8iTr4R"
      }
    },
    {
      "cell_type": "markdown",
      "source": [
        "## Instructions\n",
        "### 1. Set Up the Retriever\n",
        "First, create a retriever from the `IPC_db` vector store. This retriever will be used to fetch relevant documents based on user queries.\n",
        "\n",
        "### 2. Define the Query\n",
        "Create a query string that you want to search in the vector store. This query should be specific to the information you are looking for.\n",
        "\n",
        "```python\n",
        "query = \"\"\"\n",
        "What is the section related to take part in an unlawful assembly or riot.\n",
        "\"\"\"\n",
        "```\n",
        "\n",
        "### 3. Retrieve Relevant Documents\n",
        "Use the retriever to get documents that are relevant to your query. The `get_relevant_documents` method will return a list of documents matching the query.\n",
        "\n",
        "```python\n",
        "result = retriever.get_relevant_documents(query)\n",
        "```\n",
        "\n",
        "### 4. Display the Results\n",
        "Loop through the retrieved documents and print their content. This will display the relevant information from the documents.\n",
        "\n",
        "### 5. Set Up the Conversational AI\n",
        "Instantiate the `ChatOpenAI` class to create a language model for conversation. Set the temperature to 0 for deterministic responses.\n",
        "\n",
        "### 6. Create a Memory Buffer\n",
        "Create a memory buffer using `ConversationBufferMemory`. This buffer will store the conversation history.\n",
        "\n",
        "### 7. Set Up the Conversational Retrieval Chain\n",
        "Use the `ConversationalRetrievalChain` class to create a retrieval-augmented generation (RAG) system. This system will handle the conversation and retrieval tasks.\n",
        "\n",
        "\n"
      ],
      "metadata": {
        "id": "FQ3wC3p2ZzxM"
      }
    },
    {
      "cell_type": "code",
      "source": [
        "#Write your code here"
      ],
      "metadata": {
        "id": "m8GXpUu5SpKd"
      },
      "execution_count": null,
      "outputs": []
    },
    {
      "cell_type": "code",
      "source": [],
      "metadata": {
        "id": "d9gHw7RsRGxE"
      },
      "execution_count": null,
      "outputs": []
    },
    {
      "cell_type": "markdown",
      "source": [
        "#Step-5 : Conversation"
      ],
      "metadata": {
        "id": "HULSkUN3T6oC"
      }
    },
    {
      "cell_type": "markdown",
      "source": [
        "### Instructions\n",
        "\n",
        "1. **Import the Necessary Libraries**\n",
        "   - Import any libraries required for conversational AI. In this case, we are assuming a function `conversational_RAG` is available for answering legal questions. If the function is part of an external library, ensure that the library is installed and imported.\n",
        "\n",
        "2. **Create the User Input Loop**\n",
        "   - Initialize a variable `user_input` to store the message input by the user.\n",
        "   - Use a `while` loop to continuously prompt the user for input until they type \"quit\".\n",
        "\n",
        "3. **Define the Conversational Function**\n",
        "   - Define or import the function `conversational_RAG` which will take a dictionary with the key \"question\" and return a dictionary with the key \"answer\".\n",
        "\n",
        "4. **Process User Input**\n",
        "   - Inside the loop, capture user input using `input()`.\n",
        "   - Pass the user input to the `conversational_RAG` function.\n",
        "   - Print the response received from the function.\n",
        "\n",
        "5. **Exit Condition**\n",
        "   - The loop should terminate when the user types \"quit\".\n",
        "\n",
        "6. **Sample Interactions**\n",
        "\n",
        "```Python\n",
        "* What is the section related to take part in an unlawful assembly or riot.\n",
        "* What is the punishment for that\n",
        "* What is the Punishment for using a false property mark.\n",
        "* Which section deals with that?\n",
        "* Which section deals with Counterfeiting currency-notes or bank-notes?\n",
        "* tell me more about the section and the punishment for Counterfeiting currency-notes\n",
        "```"
      ],
      "metadata": {
        "id": "MkDdyyMoaruz"
      }
    },
    {
      "cell_type": "code",
      "source": [],
      "metadata": {
        "id": "bL6EpITJV_8V"
      },
      "execution_count": null,
      "outputs": []
    },
    {
      "cell_type": "code",
      "source": [],
      "metadata": {
        "id": "COMs0imsRGzy"
      },
      "execution_count": null,
      "outputs": []
    }
  ]
}