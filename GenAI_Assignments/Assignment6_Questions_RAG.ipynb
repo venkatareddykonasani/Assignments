{
  "nbformat": 4,
  "nbformat_minor": 0,
  "metadata": {
    "colab": {
      "provenance": [],
      "authorship_tag": "ABX9TyOBVcCgEe0C3eeLSOb0C+su",
      "include_colab_link": true
    },
    "kernelspec": {
      "name": "python3",
      "display_name": "Python 3"
    },
    "language_info": {
      "name": "python"
    }
  },
  "cells": [
    {
      "cell_type": "markdown",
      "metadata": {
        "id": "view-in-github",
        "colab_type": "text"
      },
      "source": [
        "<a href=\"https://colab.research.google.com/github/venkatareddykonasani/Assignments/blob/main/GenAI_Assignments/Assignment6_Questions_RAG.ipynb\" target=\"_parent\"><img src=\"https://colab.research.google.com/assets/colab-badge.svg\" alt=\"Open In Colab\"/></a>"
      ]
    },
    {
      "cell_type": "markdown",
      "source": [
        "#Background and Objective\n",
        "**Talk to Your Code: Interact with Your GitHub Repository Using RAG**🔍📂\n",
        "\n",
        "This project involves interacting with GitHub repository files. We will take a GitHub repository as input, read all the code files, and enable users to ask questions about the repository. Using the RAG (Retrieval-Augmented Generation) technique, we will access and retrieve the relevant code based on the user's queries.\n",
        "\n",
        "\n",
        "*   Input Data- GitHub Repo\n",
        "*   User Query - Realted to code\n",
        "*   Output - Retrieved Code based on the user query\n",
        "\n"
      ],
      "metadata": {
        "id": "IZ8jfpS6uCh_"
      }
    },
    {
      "cell_type": "markdown",
      "source": [
        "## Example Input and Output"
      ],
      "metadata": {
        "id": "tF1-2kD-wG-g"
      }
    },
    {
      "cell_type": "markdown",
      "source": [
        "**Input Data** - GitHub Repo Example Link - https://github.com/scikit-learn/scikit-learn\n",
        "\n",
        "**User Query**- \"Code for decision trees\"\n",
        "\n",
        "**RAG Tool Answer** -[ Screenshot](https://raw.githubusercontent.com/venkatareddykonasani/Datasets/master/Sample_images/Output_Screen.png)"
      ],
      "metadata": {
        "id": "Q44B8_4cwKVN"
      }
    },
    {
      "cell_type": "markdown",
      "source": [
        "##Packages"
      ],
      "metadata": {
        "id": "vtVES_9CyXaW"
      }
    },
    {
      "cell_type": "code",
      "execution_count": null,
      "metadata": {
        "id": "NsXAxYEYrl0M"
      },
      "outputs": [],
      "source": []
    },
    {
      "cell_type": "markdown",
      "source": [
        "#Step-1: Importing(Clone) the GitHub Repo to Local Folders"
      ],
      "metadata": {
        "id": "UoV_-GxizISI"
      }
    },
    {
      "cell_type": "markdown",
      "source": [
        "### Instructions to Write the Python Code for Cloning a GitHub Repository\n",
        "\n",
        "1. **Install the GitPython Library:**\n",
        "   - Ensure you have the `GitPython` library installed. This library allows you to interact with Git repositories from Python code. Use the following command to install it:\n",
        "\n",
        "2. **Import Required Modules:**\n",
        "   - Import the necessary modules `os` and `Repo` from the `git` library.\n",
        "\n",
        "3. **Set Up the Local Directory:**\n",
        "   - Remove any existing directory named `local_copy_repo` to avoid conflicts, and then create a new directory with the same name. This directory will be used to clone the GitHub repository.\n",
        "\n",
        "\n",
        "4. **Define Local Repository Path and Repository URL:**\n",
        "   - Specify the path where the repository will be cloned locally. Also, define the URL of the GitHub repository you want to clone. In this example, we will use the scikit-learn GitHub repository.\n",
        "\n",
        "\n",
        "5. **Clone the Repository:**\n",
        "   - Use the `Repo.clone_from` method to clone the specified GitHub repository into the defined local directory.\n",
        "     ```python\n",
        "     repo = Repo.clone_from(repo_url, local_repo_path)\n",
        "     ```\n",
        "\n",
        "6. **Verify the Cloned Repository:**\n",
        "   - List the contents of the cloned repository to ensure that it has been successfully cloned.\n",
        "\n"
      ],
      "metadata": {
        "id": "joEXiMjJKGmP"
      }
    },
    {
      "cell_type": "code",
      "source": [
        "#Write your code here"
      ],
      "metadata": {
        "id": "zu2uOkxn0woQ"
      },
      "execution_count": null,
      "outputs": []
    },
    {
      "cell_type": "code",
      "source": [],
      "metadata": {
        "id": "33kGbMzzzY-X"
      },
      "execution_count": null,
      "outputs": []
    },
    {
      "cell_type": "markdown",
      "source": [
        "#Step-2: Load the files(Code files only)\n",
        "\n",
        "We will load all the python code files, only .py files in this project."
      ],
      "metadata": {
        "id": "L7moMLVh04EW"
      }
    },
    {
      "cell_type": "markdown",
      "source": [
        "### Instructions to Write the Python Code for Loading and Parsing `.py` Files from a Specific Folder\n",
        "\n",
        "1. **Import Necessary Modules:**\n",
        "   - Import the `GenericLoader` from `langchain.document_loaders.generic` to load documents.\n",
        "   - Import the `LanguageParser` from `langchain.document_loaders.parsers` to parse Python files.\n",
        "\n",
        "2. **Specify the Path to the Target Folder:**\n",
        "   - Define the path to the folder containing the `.py` files you want to load. In this example, we will use the `examples` folder from the scikit-learn repository.\n",
        "\n",
        "3. **Initialize the Loader:**\n",
        "   - Create an instance of `GenericLoader` by specifying the path to the folder, the file suffix (in this case, `.py` for Python files), and the glob pattern to match all files recursively. Use the `LanguageParser` to parse the Python files.\n",
        "\n",
        "\n",
        "4. **Load the Documents:**\n",
        "   - Use the `load` method of the `GenericLoader` instance to load the documents from the specified folder.\n",
        "\n",
        "\n",
        "5. **Check the Number of Loaded Documents:**\n",
        "   - Verify the number of loaded documents by printing the length of the `documents` list.\n",
        "\n",
        "\n",
        "By following these steps, you will be able to load and parse `.py` files from a specified folder using the `GenericLoader` and `LanguageParser` classes."
      ],
      "metadata": {
        "id": "H68hQqDvKkjh"
      }
    },
    {
      "cell_type": "code",
      "source": [
        "#Write your code here"
      ],
      "metadata": {
        "id": "BTJjDn6p3TnQ"
      },
      "execution_count": null,
      "outputs": []
    },
    {
      "cell_type": "code",
      "source": [],
      "metadata": {
        "id": "Y6FuCWt8OIdw"
      },
      "execution_count": null,
      "outputs": []
    },
    {
      "cell_type": "markdown",
      "source": [
        "# Step-3: Split the Documents into Chunks"
      ],
      "metadata": {
        "id": "0pYeOc833gId"
      }
    },
    {
      "cell_type": "markdown",
      "source": [
        "### Instructions to Write the Python Code for Splitting Python Code into Chunks\n",
        "\n",
        "1. **Import Necessary Modules:**\n",
        "   - Import the `RecursiveCharacterTextSplitter` and `Language` classes from the `langchain.text_splitter` module.\n",
        "\n",
        "2. **Initialize the Text Splitter:**\n",
        "   - Create an instance of `RecursiveCharacterTextSplitter` for the Python language. Define the `chunk_size` (number of characters per chunk) and `chunk_overlap` (number of overlapping characters between chunks).\n",
        "     ```python\n",
        "     code_text_splitter = RecursiveCharacterTextSplitter.from_language(chunk_size=3000,\n",
        "                                                                       chunk_overlap=300,\n",
        "                                                                       language=Language.PYTHON)\n",
        "     ```\n",
        "\n",
        "3. **Split the Documents into Chunks:**\n",
        "   - Use the `split_documents` method of the `code_text_splitter` instance to split the loaded documents into smaller chunks.\n",
        "\n",
        "4. **Print the Number and Content of Chunks:**\n",
        "   - Print the number of generated chunks to verify the splitting process.\n",
        "\n",
        "   - Print the entire list of chunks to see the split content.\n",
        "   - Print the first chunk to inspect its content.\n",
        "\n",
        "\n",
        "By following these steps, you will be able to split Python code documents into smaller chunks using the `RecursiveCharacterTextSplitter` class, making the content easier to manage and process."
      ],
      "metadata": {
        "id": "0FaoPAQ9LQQr"
      }
    },
    {
      "cell_type": "code",
      "source": [
        "#Write your code here"
      ],
      "metadata": {
        "id": "cKV-G91O44po"
      },
      "execution_count": null,
      "outputs": []
    },
    {
      "cell_type": "code",
      "source": [],
      "metadata": {
        "id": "J1OTaydz5NSW"
      },
      "execution_count": null,
      "outputs": []
    },
    {
      "cell_type": "markdown",
      "source": [
        "#Step-4: Embeddings and VectorDB"
      ],
      "metadata": {
        "id": "9EXsOyv28Thu"
      }
    },
    {
      "cell_type": "markdown",
      "source": [
        "### Instructions to Write the Python Code for Creating Embeddings and Vector Database\n",
        "\n",
        "1. **Set Up the Environment:**\n",
        "   - Import necessary modules and set the `OPENAI_API_KEY` environment variable. Ensure you have the required key stored in Google Colab's `userdata`.\n",
        "\n",
        "\n",
        "2. **Install Required Libraries:**\n",
        "   - Install the `chromadb` and `tiktoken` libraries using pip.\n",
        "\n",
        "\n",
        "3. **Import Necessary Classes:**\n",
        "   - Import the `OpenAIEmbeddings` class from `langchain.embeddings` and the `Chroma` class from `langchain.vectorstores`. Also, import the `tiktoken` library.\n",
        "\n",
        "\n",
        "4. **Create Embeddings:**\n",
        "   - Instantiate the `OpenAIEmbeddings` class to create embeddings for the code chunks.\n",
        "\n",
        "\n",
        "5. **Create Vector Database:**\n",
        "   - Use the `Chroma.from_documents` method to create a vector database from the code chunks. Specify the embeddings and the directory where the database will be persisted.\n",
        "\n",
        "\n",
        "6. **Persist the Database:**\n",
        "   - Persist the vector database to the specified directory.\n",
        "\n",
        "\n",
        "By following these steps, you will be able to create embeddings for the code chunks and store them in a persistent vector database using the `Chroma` vector store and `OpenAIEmbeddings`."
      ],
      "metadata": {
        "id": "SKn8ozQGMDaB"
      }
    },
    {
      "cell_type": "code",
      "source": [
        "#Write your code here"
      ],
      "metadata": {
        "id": "UwgnKx8V9eVP"
      },
      "execution_count": null,
      "outputs": []
    },
    {
      "cell_type": "code",
      "source": [],
      "metadata": {
        "id": "vy_k4WEc9z8v"
      },
      "execution_count": null,
      "outputs": []
    },
    {
      "cell_type": "code",
      "source": [],
      "metadata": {
        "id": "0U4OSKpt9U3Q"
      },
      "execution_count": null,
      "outputs": []
    },
    {
      "cell_type": "markdown",
      "source": [
        "#Step-5: RAG and Q_A Chain"
      ],
      "metadata": {
        "id": "VGlI1DeUAeeJ"
      }
    },
    {
      "cell_type": "markdown",
      "source": [
        "### Instructions to Write the Python Code for Retrieval-Augmented Generation (RAG) and Q&A Chain\n",
        "\n",
        "1. **Import Necessary Classes:**\n",
        "   - Import the `RetrievalQA` and `RetrievalQAWithSourcesChain` classes from `langchain.chains`, and the `OpenAI` class from `langchain.llms`.\n",
        "\n",
        "\n",
        "2. **Create a Retriever from the Vector Database:**\n",
        "   - Convert the previously created `code_db` vector store into a retriever object.\n",
        "\n",
        "\n",
        "3. **Initialize the Language Model:**\n",
        "   - Create an instance of the `OpenAI` language model with a specified temperature (controls the randomness of the model's output).\n",
        "\n",
        "\n",
        "4. **Create the RetrievalQA Chain:**\n",
        "   - Use the `RetrievalQA.from_chain_type` method to create a Q&A chain by specifying the language model (`llm`), chain type, and retriever.\n",
        "\n",
        "\n",
        "5. **Run Queries on the Code Repository:**\n",
        "   - Define queries to search for specific code snippets within the repository. Use the `run` method of the `Code_Repo_QandA` chain to get the results.\n",
        "     ```python\n",
        "     query = \"Code for decision trees\"\n",
        "     query = \"Code for Random Forest\"\n",
        "     query = \"Code for Gradient Boosting\"\n",
        "     ```\n",
        "\n"
      ],
      "metadata": {
        "id": "3z4sXM6hM5WC"
      }
    },
    {
      "cell_type": "code",
      "source": [
        "#Write your code here"
      ],
      "metadata": {
        "id": "g_brseFhDFo8"
      },
      "execution_count": null,
      "outputs": []
    },
    {
      "cell_type": "code",
      "source": [],
      "metadata": {
        "id": "EHD9qMaABkwI"
      },
      "execution_count": null,
      "outputs": []
    },
    {
      "cell_type": "code",
      "source": [],
      "metadata": {
        "id": "dAjwqUmABqzO"
      },
      "execution_count": null,
      "outputs": []
    },
    {
      "cell_type": "code",
      "source": [],
      "metadata": {
        "id": "XZsh8VD3E0uI"
      },
      "execution_count": null,
      "outputs": []
    }
  ]
}